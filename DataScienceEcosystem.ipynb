{
 "cells": [
  {
   "cell_type": "markdown",
   "id": "3f1befc3",
   "metadata": {},
   "source": [
    "# Data Science Tools and Ecosystem"
   ]
  },
  {
   "cell_type": "markdown",
   "id": "903e63c4",
   "metadata": {},
   "source": [
    "In this notebook, Data Science Tools and Ecosystem are summarized."
   ]
  },
  {
   "cell_type": "markdown",
   "id": "10c6f311",
   "metadata": {},
   "source": [
    "**Objectives:**\n",
    "+ List popular languages for Data Science\n",
    "+ List commonly used libraries by Data Scientists\n",
    "+ List common Data Science tools\n",
    "+ Create code cell to multiply and add numbers\n",
    "+ Create code cell to convert 200 minutes to hours"
   ]
  },
  {
   "cell_type": "markdown",
   "id": "44461ceb",
   "metadata": {},
   "source": [
    "Some of the popular languages that Data Scientists use are:\n",
    "1. Python\n",
    "2. R\n",
    "3. SQL\n",
    "4. Java\n",
    "5. Scala\n",
    "6. C++\n",
    "7. JavaScript\n",
    "8. Julia\n"
   ]
  },
  {
   "cell_type": "markdown",
   "id": "8c6de760",
   "metadata": {},
   "source": [
    "Some of the commonly used libraries by Data Scientists include:\n",
    "1. Pandas\n",
    "2. NumPy\n",
    "3. Matplotlib\n",
    "4. Seaborn\n",
    "5. Scikit-learn\n",
    "6. Keras\n",
    "7. TensorFlow\n",
    "8. PyTorch"
   ]
  },
  {
   "cell_type": "markdown",
   "id": "80c4a079",
   "metadata": {},
   "source": [
    "|Data Science Tools|\n",
    "| :----------- |\n",
    "|Jupyter Notebook |\n",
    "|Jupyter Lab |\n",
    "|RStudio |\n",
    "|Apache Zepplin |\n",
    "|Spyder |"
   ]
  },
  {
   "cell_type": "markdown",
   "id": "00ffec33",
   "metadata": {},
   "source": [
    "### Below are a few examples of evaluating arithmetic experessions in python"
   ]
  },
  {
   "cell_type": "code",
   "execution_count": 10,
   "id": "8ef5b400",
   "metadata": {},
   "outputs": [
    {
     "data": {
      "text/plain": [
       "17"
      ]
     },
     "execution_count": 10,
     "metadata": {},
     "output_type": "execute_result"
    }
   ],
   "source": [
    "#This is a simple arithmetic expression to multiply then add integers\n",
    "(3*4)+5"
   ]
  },
  {
   "cell_type": "code",
   "execution_count": 14,
   "id": "1c12ef7b",
   "metadata": {},
   "outputs": [
    {
     "name": "stdout",
     "output_type": "stream",
     "text": [
      "3.3333333333333335\n"
     ]
    }
   ],
   "source": [
    "#This will convert 200 minutes to hours by diving the hours by 60\n",
    "hours = 200/60\n",
    "print(hours)"
   ]
  },
  {
   "cell_type": "markdown",
   "id": "6dc0e189",
   "metadata": {},
   "source": [
    "## Author\n",
    "Aruna"
   ]
  }
 ],
 "metadata": {
  "kernelspec": {
   "display_name": "Python 3 (ipykernel)",
   "language": "python",
   "name": "python3"
  },
  "language_info": {
   "codemirror_mode": {
    "name": "ipython",
    "version": 3
   },
   "file_extension": ".py",
   "mimetype": "text/x-python",
   "name": "python",
   "nbconvert_exporter": "python",
   "pygments_lexer": "ipython3",
   "version": "3.9.13"
  }
 },
 "nbformat": 4,
 "nbformat_minor": 5
}
